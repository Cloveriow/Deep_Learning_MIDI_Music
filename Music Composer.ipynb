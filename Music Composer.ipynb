{
 "cells": [
  {
   "cell_type": "code",
   "execution_count": 3,
   "metadata": {},
   "outputs": [
    {
     "name": "stdout",
     "output_type": "stream",
     "text": [
      "Training on GPU!\n"
     ]
    }
   ],
   "source": [
    "import torch\n",
    "from utils import CharRNN, sample, seq2csv\n",
    "import matplotlib.pyplot as plt\n",
    "from pprint import pprint"
   ]
  },
  {
   "cell_type": "markdown",
   "metadata": {},
   "source": [
    "# Load Model"
   ]
  },
  {
   "cell_type": "code",
   "execution_count": 4,
   "metadata": {
    "scrolled": true
   },
   "outputs": [
    {
     "data": {
      "text/plain": [
       "<All keys matched successfully>"
      ]
     },
     "execution_count": 4,
     "metadata": {},
     "output_type": "execute_result"
    }
   ],
   "source": [
    "checkpoint = torch.load(open('model/epoch_269.pth', 'rb'), map_location='cpu')    \n",
    "net = CharRNN(checkpoint['tokens'], n_hidden=checkpoint['n_hidden'], n_layers=checkpoint['n_layers'])\n",
    "net.load_state_dict(checkpoint['state_dict'])"
   ]
  },
  {
   "cell_type": "code",
   "execution_count": null,
   "metadata": {
    "scrolled": true
   },
   "outputs": [],
   "source": [
    "loss_history = checkpoint['loss_history']\n",
    "plt.figure(figsize=(16,5))\n",
    "plt.semilogy(range(len(loss_history)), loss_history)\n",
    "plt.xlabel(\"epoch\")\n",
    "plt.ylabel(\"loss\");"
   ]
  },
  {
   "cell_type": "markdown",
   "metadata": {},
   "source": [
    "# Compose Music"
   ]
  },
  {
   "cell_type": "code",
   "execution_count": 21,
   "metadata": {},
   "outputs": [],
   "source": [
    "# Config\n",
    "fname = 'mymusic11'    # File save name\n",
    "prime = \"C4-512-512\" # RNN 的素數\n",
    "top_k = 3          # 取top k預測隨機選擇\n",
    "compose_len = 4400   # 要組成的序列長度\n",
    "\n",
    "channel = [0]        # MIDI 通道"
   ]
  },
  {
   "cell_type": "code",
   "execution_count": 22,
   "metadata": {
    "scrolled": false
   },
   "outputs": [
    {
     "name": "stdout",
     "output_type": "stream",
     "text": [
      "{1: 'C4-512-512 C4-1536-0 F4-1554-0 A5-1456-0 F1-521-0 F2-512-512 F2-512-512 '\n",
      "    'C4-1044-0 F4-1024-0 A4-1044-0 C3-1024-0 F3-1024-1024 F4-521-512 A#4-521-0 '\n",
      "    'F2-512-512 A#4-521-0 D#5-521-0 F#5-512-0 A#5-521-0 C2-1024-0 C3-1024-0 '\n",
      "    'C#4-484-0 A#4-524-0 A#2-1024-0 C3-1024-0 F3-1024-1024 C5-2048-0 F5-2048-0 '\n",
      "    'A#5-2089-0 F1-512-0 F2-512-512 C3-256-0 A3-256-512 C4-1044-0 F4-1044-0 '\n",
      "    'A#4-1044-0 F2-2048-23 F1-512-0 C3-512-0 F4-512-0 A4-512-0 D5-512-0 '\n",
      "    'G2-512-0 A#2-512-0 D3-512-0 G3-512-512 A#4-1564-0 D5-1536-0 F5-1432-0 '\n",
      "    'A#5-1564-0 D1-1024-0 D2-1024-1024 D5-512-0 D6-521-0 A2-1024-0 D3-1024-0 '\n",
      "    'F3-1024-512 A#4-1564-0 D5-1536-0 F5-1564-0 A#5-1564-512 D1-512-0 '\n",
      "    'D2-512-512 D2-512-512 A4-1945-0 D5-1945-0 A5-1945-0 A2-1024-0 D3-1024-0 '\n",
      "    'F3-1024-1024 G6-2048-0 D#7-2048-0 G1-1024-0 G2-1024-1024 A#4-1024-0 '\n",
      "    'D5-1024-0 G5-1024-0 A#5-1024-0 D3-512-0 G3-512-512 G2-1024-512 G6-2048-0 '\n",
      "    'D7-2048-512 G2-512-512 G5-1044-0 D#5-1024-0 G5-1024-0 A#5-1044-0 G2-512-0 '\n",
      "    'A#2-512-0 D#3-512-512 D#2-1024-512 D#5-1044-0 G5-1024-0 A#5-1024-0 '\n",
      "    'D#6-1044-512 D#2-512-512 D5-1044-0 G5-1044-0 A#5-1044-0 D6-1044-0 '\n",
      "    'A#2-1024-0 D#3-1024-1024 C5-1044-0 F5-1044-0 A5-1044-0 C6-1044-0 '\n",
      "    'D1-1024-0 D2-1024-1024 D3-512-0 G3-512-512 A3-1044-0 G2-1024-0 C3-1024-0 '\n",
      "    'D#3-1024-1024 C2-512-0 C3-512-0 F#3-484-1024 D4-1044-0 G4-1044-0 '\n",
      "    'A#4-1024-0 F5-1024-0 A#5-1024-0 A2-512-0 D3-512-512 D2-1024-512 D5-1024-0 '\n",
      "    'F5-1024-0 A#5-1044-512 D2-512-512 D5-1044-0 F5-1044-0 A5-1024-0 A2-512-0 '\n",
      "    'D3-512-0 F#3-512-0 A#2-512-512 A#5-1024-0 D3-512-0 F3-512-512 F5-384-0 '\n",
      "    'D2-1024-512 F4-345-0 F3-768-0 D3-768-369 A#1-461-512 D3-461-512 C5-922-0 '\n",
      "    'A2-461-512 E6-973-0 C#3-461-512 A2-461-512 E3-461-512 C3-461-512 '\n",
      "    'E3-461-512 C2-461-512 E3-461-512 C6-922-0 F#2-461-512 A2-461-512 A5-461-0 '\n",
      "    'C4-461-512 A5-230-0 A3-461-256 G5-486-256 D3-461-256 A5-230-256 G5-230-0 '\n",
      "    'A3-461-256 F5-230-256 A5-461-0 A3-245-256 A5-230-256 G5-461-0 A3-461-512 '\n",
      "    'E3-461-512 A#5-461-0 D3-461-512 F5-230-0 C3-461-256 F5-230-256 F5-230-0 '\n",
      "    'E3-461-256 D5-230-256 F5-461-0 D3-461-512 G5-461-0 A#2-461-512 A5-461-0 '\n",
      "    'F3-461-512 G5-461-0 A#2-461-512 A5-461-0 F3-461-512 G5-461-0 A3-461-512 '\n",
      "    'A5-461-0 F3-461-512 A5-230-0 A3-461-256 G5-230-256 E5-230-0 C4-461-256 '\n",
      "    'E5-230-256 F5-461-0 F3-461-512 F5-230-0 G3-461-256 F5-230-256 E3-461-512 '\n",
      "    'G5-461-0 F3-461-512 A5-461-0 C4-461-512 A5-230-0 A3-461-256 G5-230-256 '\n",
      "    'A5-230-0 G3-461-256 A5-230-256 F5-230-0 E3-461-256 D5-230-256 F#5-230-256 '\n",
      "    'E5-922-0 G#3-230-256 E5-230-0 E3-461-256 C#5-230-256 E5-461-0 A2-461-512 '\n",
      "    'F#5-461-0 E3-461-512 C#3-461-256 A#5-461-256 E3-461-256 F#5-461-0 '\n",
      "    'A2-461-512 F#5-973-0 C#3-461-512 A2-461-512 E5-461-0 E3-461-512 E5-461-0 '\n",
      "    'C#3-461-512 E5-461-0 F#3-3686-0 C#3-3686-0 E3-3686-512 E5-461-512 '\n",
      "    'B4-461-512 F#5-461-512 B4-461-512 G#5-461-512 B4-461-512 F#5-461-512 '\n",
      "    'B4-461-0 G#2-461-0 B2-461-0 D#3-461-512 E5-461-0 G#2-461-0 B2-461-0 '\n",
      "    'D#3-461-512 B4-461-512 E5-461-0 F#3-461-0 D#3-461-0 B2-461-512 B4-461-512 '\n",
      "    'F#5-461-0 F#3-23-512 E5-461-0 B2-461-512 F#5-461-0 G#3-461-512 F#5-461-0 '\n",
      "    'G#2-461-512 F#5-461-0 B2-461-512 E5-973-0 E3-2355-2048 B4-461-512 '\n",
      "    'E5-461-0 A2-461-512 E5-461-0 C#3-461-512 E5-461-0 E3-461-512 F#5-461-0 '\n",
      "    'A3-2355-512 F#5-461-512 G#5-461-512 G#5-461-512 A5-973-512 E2-461-512 '\n",
      "    'G#5-461-0 G#2-461-512 F#5-461-0 B2-461-512 E5-973-0 E3-2355-2048 '\n",
      "    'B4-461-512 E5-461-0 A2-461-512 E5-461-0 C#3-461-512 E5-461-0 E3-461-512 '\n",
      "    'F#5-461-0 A3-2355-512 F#5-461-512 G#5-922-1024 E5-2355-512 A2-461-512 '\n",
      "    'C#3-461-512 E3-461-512 A3-2355-1536 G#4-461-512 A4-461-512 B4-1382-0 '\n",
      "    'C#3-461-512 E3-461-512 G#3-461-512 E5-461-0 C#4-2355-512 E5-922-1024 '\n",
      "    'E5-461-512 E5-461-512 E5-461-0 E2-461-512 E5-461-0 G#2-461-512 D#5-461-0 '\n",
      "    'B2-461-512 E5-973-0 E3-2355-2048 B4-484-0 D4-484-1023 B2-922-40 '\n",
      "    'B4-970-1916 F#4-484-512 F#3-484-43 B4-970-469 D3-484-512 D3-484-43 '\n",
      "    'A4-970-469 D3-484-512 D3-484-43 E4-484-469 D3-484-43 A4-484-469 D3-484-43 '\n",
      "    'A4-970-469 D4-484-512 D3-484-43 A4-484-469 E4-484-43 A4-2916-469 '\n",
      "    'A3-484-512 A4-484-43 E4-484-469 A3-484-43 A4-484-469 A4-484-43 B4-484-469 '\n",
      "    'A3-484-43 A4-484-469 F#3-484-43 F#5-484-469 F#3-484-43 E5-970-469 '\n",
      "    'F#3-484-512 F#3-484-43 A4-970-469 F#3-484-512 F#3-484-43 A4-484-469 '\n",
      "    'F#3-484-43 E5-484-469 F#3-484-43 E5-970-469 F#3-484-512 F#3-484-43 '\n",
      "    'A4-484-469 F#3-484-43 F#5-484-469 F#3-484-43 E5-970-469 F#3-484-512 '\n",
      "    'F#3-484-43 A4-970-469 F#3-484-512 F#3-484-43 A4-970-42 A5-971-427 '\n",
      "    'F#2-484-512 F#3-484-43 C#5-484-469 F#4-484-43 B4-484-469 A4-484-0 '\n",
      "    'F#3-484-85 F#5-485-512 F#4-484-512 F#3-484-512 F#4-484-512 D3-484-43 '\n",
      "    'F#4-484-469 G#4-484-43 A4-484-469 F#3-484-43 A4-484-469 F#4-484-43'}\n"
     ]
    },
    {
     "name": "stderr",
     "output_type": "stream",
     "text": [
      "C:\\Users\\clove\\Desktop\\AI music\\RNN_MIDI_Composer-master\\utils.py:247: FutureWarning: The frame.append method is deprecated and will be removed from pandas in a future version. Use pandas.concat instead.\n",
      "  df = out1.append(out2).sort_values(\"time\")\n"
     ]
    }
   ],
   "source": [
    "seqs = {}\n",
    "idx_retry = 0\n",
    "while True:\n",
    "    assert max(channel) <= 15\n",
    "    try:\n",
    "        for i in range(len(channel)):\n",
    "            seq = sample(net, compose_len, prime=prime, top_k=top_k)\n",
    "            seq = \" \".join(seq.split()[:-1])\n",
    "            seqs[i+1] = seq\n",
    "        seq2csv(seqs, fname, channel)\n",
    "        pprint(seqs)\n",
    "        break\n",
    "    except:\n",
    "        idx_retry += 1\n",
    "        print(f\"Retry music composing... [{idx_retry}]\")\n",
    "        if idx_retry == 10:\n",
    "            print(\"Music composition failed. Try to train the model longer\")            \n",
    "            break"
   ]
  },
  {
   "cell_type": "code",
   "execution_count": null,
   "metadata": {},
   "outputs": [],
   "source": []
  }
 ],
 "metadata": {
  "kernelspec": {
   "display_name": "Python 3 (ipykernel)",
   "language": "python",
   "name": "python3"
  },
  "language_info": {
   "codemirror_mode": {
    "name": "ipython",
    "version": 3
   },
   "file_extension": ".py",
   "mimetype": "text/x-python",
   "name": "python",
   "nbconvert_exporter": "python",
   "pygments_lexer": "ipython3",
   "version": "3.9.13"
  }
 },
 "nbformat": 4,
 "nbformat_minor": 2
}
